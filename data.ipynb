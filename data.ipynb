{
 "cells": [
  {
   "cell_type": "code",
   "execution_count": 16,
   "metadata": {},
   "outputs": [],
   "source": [
    "import os"
   ]
  },
  {
   "cell_type": "code",
   "execution_count": 30,
   "metadata": {},
   "outputs": [],
   "source": [
    "file = open('Legal Engine.txt', 'r').read().split('\\n')"
   ]
  },
  {
   "cell_type": "code",
   "execution_count": 55,
   "metadata": {},
   "outputs": [
    {
     "data": {
      "text/plain": [
       "'JUDGMENT'"
      ]
     },
     "execution_count": 55,
     "metadata": {},
     "output_type": "execute_result"
    }
   ],
   "source": [
    "file[31].strip()"
   ]
  },
  {
   "cell_type": "code",
   "execution_count": 59,
   "metadata": {},
   "outputs": [],
   "source": [
    "def get_title(file):\n",
    "    return file[1]\n",
    "\n",
    "def get_text(file):\n",
    "    # text is the content after word \"Judgment\"\n",
    "    for i in range(len(file)):\n",
    "        if \"JUDGMENT\" in file[i].strip():\n",
    "            return ' '.join(file[i+1:])"
   ]
  },
  {
   "cell_type": "code",
   "execution_count": 60,
   "metadata": {},
   "outputs": [
    {
     "data": {
      "text/plain": [
       "'Bgs Sgs Soma Jv vs Nhpc Ltd. on 10 December, 2019'"
      ]
     },
     "execution_count": 60,
     "metadata": {},
     "output_type": "execute_result"
    }
   ],
   "source": [
    "get_title(file)"
   ]
  },
  {
   "cell_type": "code",
   "execution_count": 63,
   "metadata": {},
   "outputs": [
    {
     "name": "stdout",
     "output_type": "stream",
     "text": [
      "R.F. NARIMAN, J.  1. Leave granted.  2. peals under Section 37 of the Arbitration and Conciliation Act, 1996 (hereinafter referred to as “the Arbitration Act, 1996”), and, given the \f arbitration clause in these proceedings, whether the “seat” of the arbi-  tration proceedings is New Delhi or Faridabad, consequent upon which a petition under Section 34 of the Arbitration Act, 1996 may be filed dependent on where the seat of arbitration is located.  3. At the outset, the facts in SLP (Civil) No.2\n"
     ]
    }
   ],
   "source": [
    "print(get_text(file)[:500])"
   ]
  },
  {
   "cell_type": "code",
   "execution_count": null,
   "metadata": {},
   "outputs": [],
   "source": []
  }
 ],
 "metadata": {
  "kernelspec": {
   "display_name": "tf-metal",
   "language": "python",
   "name": "python3"
  },
  "language_info": {
   "codemirror_mode": {
    "name": "ipython",
    "version": 3
   },
   "file_extension": ".py",
   "mimetype": "text/x-python",
   "name": "python",
   "nbconvert_exporter": "python",
   "pygments_lexer": "ipython3",
   "version": "3.9.15"
  }
 },
 "nbformat": 4,
 "nbformat_minor": 2
}
