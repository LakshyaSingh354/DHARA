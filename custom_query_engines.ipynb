{
 "cells": [
  {
   "cell_type": "code",
   "execution_count": null,
   "metadata": {},
   "outputs": [],
   "source": [
    "import nest_asyncio\n",
    "from llama_index.core import SimpleDirectoryReader\n",
    "\n",
    "\n",
    "nest_asyncio.apply()\n",
    "\n",
    "import os\n",
    "from dotenv import load_dotenv, find_dotenv\n",
    "\n",
    "load_dotenv(find_dotenv())\n",
    "GEMINI_API_KEY = os.getenv(\"GEMINI_API_KEY\")\n",
    "\n",
    "\n",
    "single_document = SimpleDirectoryReader(input_files=['cases/case4.txt']).load_data()\n",
    "\n",
    "from llama_index.core.node_parser import SentenceSplitter\n",
    "from llama_index.core import SummaryIndex, VectorStoreIndex\n",
    "\n",
    "splitter = SentenceSplitter(chunk_size=8192)\n",
    "nodes = splitter.get_nodes_from_documents(single_document)\n",
    "index = VectorStoreIndex(nodes)\n",
    "retriever = index.as_retriever()\n",
    "\n",
    "from llama_index.core import Settings\n",
    "from llama_index.llms.gemini import Gemini\n",
    "from llama_index.embeddings.huggingface import HuggingFaceEmbedding\n",
    "\n",
    "Settings.llm = Gemini(api_key=GEMINI_API_KEY)\n",
    "Settings.embed_model = HuggingFaceEmbedding(model_name=\"sentence-transformers/all-MiniLM-L6-v2\")"
   ]
  },
  {
   "cell_type": "code",
   "execution_count": null,
   "metadata": {},
   "outputs": [],
   "source": [
    "from llama_index.core import PromptTemplate\n",
    "qa_prompt = PromptTemplate(\n",
    "    '''\n",
    "\n",
    "        \"Context information is below.\\n\"\n",
    "        \"---------------------\\n\"\n",
    "        \"{context_str}\\n\"\n",
    "        \"---------------------\\n\"\n",
    "\n",
    "        please go through the above case in complete detail and provide me a contextual summary of the case, A summary of the relevant legal information.\\nI want large data. give large contextual summary full detailed case by going through the whole txt file. give proper detailed info of what all happened in the case arguments by appealant, responsdent, judge decisions, etc etc,\\nI want everything in detail. all the facts in the case, all relevant sections in the file, all legal principles in the file, each and every cotext in the file \\n \\n \n",
    "    Follow this template for all the summaries like a bible:\\n \n",
    "    1. Case Title\n",
    "\n",
    "\t•\tCase Name: [e.g., ABC Corp. vs. XYZ Ltd.]\n",
    "\t•\tCourt: [e.g., Supreme Court of India]\n",
    "\t•\tDate of Judgment: [e.g., 23rd August 2024]\n",
    "\t•\tCitation: [e.g., 2024 SCC 123]\n",
    "\n",
    "2. Background and Context\n",
    "\n",
    "\t•\tBrief Overview: A concise summary of the case background, including relevant events leading up to the legal dispute.\n",
    "\t•\tKey Issues: A list of the main legal questions or issues presented in the case.\n",
    "\n",
    "3. Legal Principles Involved\n",
    "\n",
    "\t•\tRelevant Statutes and Provisions: List of statutory provisions, rules, and regulations relevant to the case.\n",
    "\t•\tPrecedents Cited: Key past judgments cited during the case.\n",
    "\t•\tLegal Doctrines: Any specific legal doctrines or principles applied in the judgment.\n",
    "\n",
    "4. Arguments Presented\n",
    "\n",
    "\t•\tPlaintiff’s Argument: Summary of the arguments and claims made by the plaintiff.\n",
    "\t•\tDefendant’s Argument: Summary of the arguments and defenses presented by the defendant.\n",
    "\n",
    "5. Court’s Analysis and Reasoning\n",
    "\n",
    "\t•\tKey Findings: Important observations and findings made by the court.\n",
    "\t•\tInterpretation of Law: How the court interpreted the relevant legal provisions and precedents.\n",
    "\t•\tApplication of Law: How the court applied the law to the facts of the case.\n",
    "\n",
    "6. Judgment\n",
    "\n",
    "\t•\tFinal Decision: The outcome of the case (e.g., in favor of the plaintiff/defendant).\n",
    "\t•\tRelief Granted: Any relief or damages awarded, if applicable.\n",
    "\t•\tOrders: Specific orders or directives issued by the court.\n",
    "\n",
    "7. Implications\n",
    "\n",
    "\t•\tImpact on Law: How the judgment impacts existing law or legal practice.\n",
    "\t•\tFuture Relevance: The potential influence of the case on future legal decisions or cases.\n",
    "\t•\tBroader Context: Any broader implications, such as social, economic, or political impact.\n",
    "\n",
    "8. Summary Points\n",
    "\n",
    "\t•\tKey Takeaways: Bullet points summarizing the most critical aspects of the case, suitable for quick reference.\n",
    "\n",
    "9. References\n",
    "\n",
    "\t•\tCitations: Full citations of any statutes, cases, or legal texts referenced in the summary.\n",
    "\t•\tFurther Reading: Suggestions for further reading or related cases.\n",
    "    '''\n",
    ")"
   ]
  },
  {
   "cell_type": "code",
   "execution_count": null,
   "metadata": {},
   "outputs": [],
   "source": [
    "from llama_index.core.query_engine import CustomQueryEngine\n",
    "from llama_index.core.retrievers import BaseRetriever\n",
    "from llama_index.core import get_response_synthesizer\n",
    "from llama_index.core.response_synthesizers import BaseSynthesizer\n",
    "\n",
    "class RAGStringQueryEngine(CustomQueryEngine):\n",
    "    \"\"\"RAG String Query Engine.\"\"\"\n",
    "\n",
    "    retriever: BaseRetriever\n",
    "    response_synthesizer: BaseSynthesizer\n",
    "    llm: Gemini\n",
    "    qa_prompt: PromptTemplate\n",
    "\n",
    "    def custom_query(self, query_str: str):\n",
    "        nodes = self.retriever.retrieve(query_str)\n",
    "\n",
    "        context_str = \"\\n\\n\".join([n.node.get_content() for n in nodes])\n",
    "        response = self.llm.complete(\n",
    "            qa_prompt.format(context_str=context_str, query_str=query_str)\n",
    "        )\n",
    "\n",
    "        return str(response)"
   ]
  },
  {
   "cell_type": "code",
   "execution_count": null,
   "metadata": {},
   "outputs": [],
   "source": [
    "query_engine = RAGStringQueryEngine(\n",
    "    retriever=retriever,\n",
    "    response_synthesizer=get_response_synthesizer(),\n",
    "    llm=Settings.llm,\n",
    "    qa_prompt=qa_prompt,\n",
    ")"
   ]
  },
  {
   "cell_type": "code",
   "execution_count": null,
   "metadata": {},
   "outputs": [],
   "source": [
    "response = query_engine.query(\"What is the case about?\")"
   ]
  },
  {
   "cell_type": "code",
   "execution_count": null,
   "metadata": {},
   "outputs": [],
   "source": [
    "print(response)"
   ]
  },
  {
   "cell_type": "code",
   "execution_count": 1,
   "metadata": {},
   "outputs": [
    {
     "name": "stderr",
     "output_type": "stream",
     "text": [
      "/Users/lakshya/miniforge3/lib/python3.9/site-packages/tqdm/auto.py:21: TqdmWarning: IProgress not found. Please update jupyter and ipywidgets. See https://ipywidgets.readthedocs.io/en/stable/user_install.html\n",
      "  from .autonotebook import tqdm as notebook_tqdm\n",
      "/Users/lakshya/miniforge3/lib/python3.9/site-packages/transformers/tokenization_utils_base.py:1601: FutureWarning: `clean_up_tokenization_spaces` was not set. It will be set to `True` by default. This behavior will be depracted in transformers v4.45, and will be then set to `False` by default. For more details check this issue: https://github.com/huggingface/transformers/issues/31884\n",
      "  warnings.warn(\n",
      "/Users/lakshya/miniforge3/lib/python3.9/site-packages/pydantic/_internal/_fields.py:132: UserWarning: Field \"model_name\" in HuggingFaceInferenceAPIEmbeddings has conflict with protected namespace \"model_\".\n",
      "\n",
      "You may be able to resolve this warning by setting `model_config['protected_namespaces'] = ()`.\n",
      "  warnings.warn(\n",
      "/Users/lakshya/miniforge3/lib/python3.9/site-packages/transformers/tokenization_utils_base.py:1601: FutureWarning: `clean_up_tokenization_spaces` was not set. It will be set to `True` by default. This behavior will be depracted in transformers v4.45, and will be then set to `False` by default. For more details check this issue: https://github.com/huggingface/transformers/issues/31884\n",
      "  warnings.warn(\n"
     ]
    }
   ],
   "source": [
    "from agent import RAGPipeline\n",
    "\n",
    "rag_pipeline = RAGPipeline()\n",
    "\n",
    "rag_pipeline.load_documents(input_dir='summaries', input_files=['cases/case4.txt'])\n",
    "rag_pipeline.split_documents()\n",
    "rag_pipeline.create_indices()\n",
    "rag_pipeline.create_query_engines()\n",
    "rag_pipeline.create_tools()\n",
    "rag_pipeline.create_router_engine()"
   ]
  },
  {
   "cell_type": "code",
   "execution_count": 2,
   "metadata": {},
   "outputs": [
    {
     "name": "stdout",
     "output_type": "stream",
     "text": [
      "\u001b[1;3;38;5;200mSelecting query engine 1: The question asks for an examination of legal principles and jurisdictional considerations, specifically referencing Section 9 of the Arbitration and Conciliation Act, 1996. This indicates a need for retrieving specific legal information related to the query..\n",
      "\u001b[0m"
     ]
    }
   ],
   "source": [
    "response = rag_pipeline.query(\"A joint venture between two Indian companies and a foreign company entered into a contract for the construction of a power plant. The contract provided that the arbitration would be held in London, but the joint venture company filed an application for interim relief under Section 9 of the Arbitration and Conciliation Act, 1996 before the Bombay High Court. The foreign company argues that the Bombay High Court lacks jurisdiction as the seat of arbitration was agreed to be London. Examine the legal principles and jurisdictional considerations in this case.\")"
   ]
  },
  {
   "cell_type": "code",
   "execution_count": 3,
   "metadata": {},
   "outputs": [
    {
     "data": {
      "text/plain": [
       "'The Bombay High Court\\'s jurisdiction in this case would be determined by the interplay of the contract\\'s arbitration clause, the parties\\' conduct, and the provisions of the Arbitration and Conciliation Act, 1996 (Act, 1996).\\n\\n**Legal Principles and Jurisdictional Considerations:**\\n\\n* **Seat of Arbitration:** The contract\\'s stipulation that arbitration be held in London is crucial. The \"seat\" of arbitration determines the applicable law and the courts with supervisory jurisdiction over the arbitration proceedings.  \\n* **Party Autonomy:** Parties are generally free to agree on the terms of their contract, including the place of arbitration. This principle of party autonomy is enshrined in the Act, 1996.\\n* **Section 9 of the Act, 1996:** This section allows parties to an arbitration agreement to apply to the court for interim measures before or during the arbitral proceedings. However, the court\\'s jurisdiction to grant interim relief is not unlimited and must be exercised within the framework of the Act, 1996 and the principles of international arbitration.\\n* **Jurisdictional Considerations:**\\n    * **Exclusive Jurisdiction:** The court at the \"seat\" of arbitration generally has exclusive jurisdiction over disputes arising from the arbitration proceedings. This principle is supported by numerous Supreme Court decisions, including *Bhartiya Aluminium Company Ltd. vs. Kaiser Aluminium Technical Services* (2012) 9 SCC 552 (BALCO) and *BGS SGS Soma JV versus NHPC Ltd* (2004) 4 SCC 234.\\n    * **Significant Contrary Indicia:** Courts have recognized that the venue of arbitration can be treated as the \"seat\" of arbitration if there are \"significant contrary indicia\" suggesting that the parties intended the venue to be the seat. This exception is narrowly construed.\\n    * **Waiver:** A party can relinquish a known right, such as the right to object to jurisdiction, through their conduct. However, waiver must be clear and unequivocal.\\n\\n**Analysis:**\\n\\nIn this case, the foreign company\\'s argument that the Bombay High Court lacks jurisdiction is based on the contract\\'s designation of London as the seat of arbitration. The Bombay High Court would need to consider the following:\\n\\n1. **Express Agreement:** The contract\\'s express agreement on London as the seat of arbitration is a strong indicator that the parties intended London to be the seat.\\n2. **Parties\\' Conduct:** The Bombay High Court would need to examine the parties\\' conduct to determine if there are any \"significant contrary indicia\" suggesting that the parties intended Bombay to be the seat. For example, if the joint venture company had consistently conducted its business operations in India and had not raised any objections to the Bombay High Court\\'s jurisdiction in the past, this could be considered a contrary indicia.\\n3. **Waiver:** The foreign company could argue that the joint venture company has waived its right to object to the Bombay High Court\\'s jurisdiction by filing the application for interim relief. However, the Bombay High Court would need to determine if the joint venture company\\'s actions constitute a clear and unequivocal waiver.\\n\\n**Conclusion:**\\n\\nBased on the legal principles and jurisdictional considerations discussed above, the Bombay High Court would likely find that it lacks jurisdiction to grant interim relief in this case. The contract\\'s express agreement on London as the seat of arbitration, coupled with the lack of significant contrary indicia, suggests that London is the appropriate forum for resolving the dispute. The joint venture company\\'s application for interim relief would likely be dismissed.\\n\\n**Case Names:**\\n\\n* Sikkim Power Development Corporation Ltd. & Anr. vs. Amalgamated Transpower (India) Ltd. & Amalgamated Transpower (India) Ltd. vs. M/s Sikkim Power Development Corporation Ltd. & Anr.\\n* M/S. D. M. Corporation Pvt. Ltd. vs. The State of Maharashtra\\n* Arss - Sips (Jv) A Joint Venture vs Union Of India\\n* M/S Zapdor-Ubc-Abnjv Delhi vs U.O.I. Thru.General Manager Northern Railway New Delhi And Ors\\n* Dholera Industrial City Development Limited vs. M/S SPML Infra Ltd. \\n'"
      ]
     },
     "execution_count": 3,
     "metadata": {},
     "output_type": "execute_result"
    }
   ],
   "source": [
    "response"
   ]
  },
  {
   "cell_type": "code",
   "execution_count": null,
   "metadata": {},
   "outputs": [],
   "source": []
  }
 ],
 "metadata": {
  "kernelspec": {
   "display_name": "base",
   "language": "python",
   "name": "python3"
  },
  "language_info": {
   "codemirror_mode": {
    "name": "ipython",
    "version": 3
   },
   "file_extension": ".py",
   "mimetype": "text/x-python",
   "name": "python",
   "nbconvert_exporter": "python",
   "pygments_lexer": "ipython3",
   "version": "3.9.19"
  }
 },
 "nbformat": 4,
 "nbformat_minor": 2
}
