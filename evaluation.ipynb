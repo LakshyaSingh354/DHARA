{
 "cells": [
  {
   "cell_type": "code",
   "execution_count": 1,
   "metadata": {},
   "outputs": [
    {
     "name": "stderr",
     "output_type": "stream",
     "text": [
      "/Users/lakshya/miniforge3/lib/python3.10/site-packages/tqdm/auto.py:21: TqdmWarning: IProgress not found. Please update jupyter and ipywidgets. See https://ipywidgets.readthedocs.io/en/stable/user_install.html\n",
      "  from .autonotebook import tqdm as notebook_tqdm\n"
     ]
    }
   ],
   "source": [
    "import google.generativeai as genai\n",
    "import os\n",
    "import pandas as pd\n",
    "from tqdm import tqdm\n",
    "import time"
   ]
  },
  {
   "cell_type": "code",
   "execution_count": 2,
   "metadata": {},
   "outputs": [],
   "source": [
    "genai.configure(api_key=os.environ['API_KEY'])\n",
    "model = genai.GenerativeModel('gemini-1.5-flash')"
   ]
  },
  {
   "cell_type": "code",
   "execution_count": 4,
   "metadata": {},
   "outputs": [
    {
     "name": "stdout",
     "output_type": "stream",
     "text": [
      "Processed 51/51\r"
     ]
    }
   ],
   "source": [
    "summaries = []\n",
    "for i, file in enumerate(os.listdir('eval_data')):\n",
    "    with open(f'eval_data/{file}', 'r', errors='ignore') as f:\n",
    "        text = f.read()\n",
    "\n",
    "        summaries.append(text)\n",
    "        print(f'Processed {i+1}/{len(os.listdir(\"eval_data\"))}', end='\\r')"
   ]
  },
  {
   "cell_type": "code",
   "execution_count": 5,
   "metadata": {},
   "outputs": [],
   "source": [
    "def generate_legal_queries(document, num=5):\n",
    "    queries = []\n",
    "    for _ in range(num):\n",
    "        response = model.generate_content(\n",
    "            f\"Generate a realisitic one line legal research query based on the following summarized case file. Only generate a one line query nothing else. Also the query should not directly reference the case file, the query should only be something that could be answered using the below case file as a reference but the query should not directly refer the below case file, the query should be a general legal question only that can be answered by referring to this case file .\\nCaseFile:\\n\\n{document}\",\n",
    "        )\n",
    "        queries.append(response.text)\n",
    "    return queries"
   ]
  },
  {
   "cell_type": "code",
   "execution_count": 6,
   "metadata": {},
   "outputs": [
    {
     "name": "stderr",
     "output_type": "stream",
     "text": [
      "Generating queries for all cases: 100%|██████████| 51/51 [20:57<00:00, 24.65s/it]\n"
     ]
    }
   ],
   "source": [
    "case_query_pairs = {}\n",
    "for summary in tqdm(summaries, desc='Generating queries for all cases'):\n",
    "    queries = generate_legal_queries(summary)\n",
    "    case_query_pairs[summary] = queries\n",
    "    time.sleep(20)"
   ]
  },
  {
   "cell_type": "code",
   "execution_count": 9,
   "metadata": {},
   "outputs": [],
   "source": [
    "df = pd.DataFrame(case_query_pairs.items(), columns=['Case', 'Queries'])"
   ]
  },
  {
   "cell_type": "code",
   "execution_count": 10,
   "metadata": {},
   "outputs": [
    {
     "data": {
      "text/html": [
       "<div>\n",
       "<style scoped>\n",
       "    .dataframe tbody tr th:only-of-type {\n",
       "        vertical-align: middle;\n",
       "    }\n",
       "\n",
       "    .dataframe tbody tr th {\n",
       "        vertical-align: top;\n",
       "    }\n",
       "\n",
       "    .dataframe thead th {\n",
       "        text-align: right;\n",
       "    }\n",
       "</style>\n",
       "<table border=\"1\" class=\"dataframe\">\n",
       "  <thead>\n",
       "    <tr style=\"text-align: right;\">\n",
       "      <th></th>\n",
       "      <th>Case</th>\n",
       "      <th>Queries</th>\n",
       "    </tr>\n",
       "  </thead>\n",
       "  <tbody>\n",
       "    <tr>\n",
       "      <th>0</th>\n",
       "      <td>## 1. Case Title\\n\\n* **Case Name:** Arcelor M...</td>\n",
       "      <td>[Does a court retain jurisdiction to hear a Se...</td>\n",
       "    </tr>\n",
       "    <tr>\n",
       "      <th>1</th>\n",
       "      <td>##  Rubinetterie Bresciane Bonomi SpA vs. M/S....</td>\n",
       "      <td>[Is a right of appeal a vested right that cann...</td>\n",
       "    </tr>\n",
       "    <tr>\n",
       "      <th>2</th>\n",
       "      <td>\u0000\u0000\u0000\u0001Bud1\u0000\u0000\u0010\u0000\u0000\u0000\b\u0000\u0000\u0000\u0010\u0000\u0000\u0000\u0000\u0000\u0000\u0000\u0000\u0000\u0000\u0000\u0000\u0000\u0000\u0000\u0000\u0000\u0000\u0000\u0000\u0000\u0000\u0000\u0000\u0000\u0000\b...</td>\n",
       "      <td>[What are the legal requirements for establish...</td>\n",
       "    </tr>\n",
       "    <tr>\n",
       "      <th>3</th>\n",
       "      <td>## 1. Case Title\\n\\n* **Case Name:** M/s.Indus...</td>\n",
       "      <td>[What are the legal requirements for granting ...</td>\n",
       "    </tr>\n",
       "    <tr>\n",
       "      <th>4</th>\n",
       "      <td>##  M/S Reva Electric Car Co. P. Ltd. vs. M/S ...</td>\n",
       "      <td>[Can an arbitration clause in a terminated Mem...</td>\n",
       "    </tr>\n",
       "  </tbody>\n",
       "</table>\n",
       "</div>"
      ],
      "text/plain": [
       "                                                Case  \\\n",
       "0  ## 1. Case Title\\n\\n* **Case Name:** Arcelor M...   \n",
       "1  ##  Rubinetterie Bresciane Bonomi SpA vs. M/S....   \n",
       "2  \u0000\u0000\u0000\u0001Bud1\u0000\u0000\u0010\u0000\u0000\u0000\b\u0000\u0000\u0000\u0010\u0000\u0000\u0000\u0000\u0000\u0000\u0000\u0000\u0000\u0000\u0000\u0000\u0000\u0000\u0000\u0000\u0000\u0000\u0000\u0000\u0000\u0000\u0000\u0000\u0000\u0000\b...   \n",
       "3  ## 1. Case Title\\n\\n* **Case Name:** M/s.Indus...   \n",
       "4  ##  M/S Reva Electric Car Co. P. Ltd. vs. M/S ...   \n",
       "\n",
       "                                             Queries  \n",
       "0  [Does a court retain jurisdiction to hear a Se...  \n",
       "1  [Is a right of appeal a vested right that cann...  \n",
       "2  [What are the legal requirements for establish...  \n",
       "3  [What are the legal requirements for granting ...  \n",
       "4  [Can an arbitration clause in a terminated Mem...  "
      ]
     },
     "execution_count": 10,
     "metadata": {},
     "output_type": "execute_result"
    }
   ],
   "source": [
    "df.head()"
   ]
  },
  {
   "cell_type": "code",
   "execution_count": 12,
   "metadata": {},
   "outputs": [],
   "source": [
    "df.to_csv('eval_data.csv', index=False, escapechar='\\\\')\n"
   ]
  },
  {
   "cell_type": "code",
   "execution_count": 13,
   "metadata": {},
   "outputs": [],
   "source": [
    "import pickle\n",
    "with open('eval_data.pkl', 'wb') as f:\n",
    "    pickle.dump(case_query_pairs, f)"
   ]
  },
  {
   "cell_type": "code",
   "execution_count": null,
   "metadata": {},
   "outputs": [],
   "source": [
    "# load the pickled data\n",
    "with open('eval_data.pkl', 'rb') as f:\n",
    "    data = pickle.load(f)"
   ]
  }
 ],
 "metadata": {
  "kernelspec": {
   "display_name": "base",
   "language": "python",
   "name": "python3"
  },
  "language_info": {
   "codemirror_mode": {
    "name": "ipython",
    "version": 3
   },
   "file_extension": ".py",
   "mimetype": "text/x-python",
   "name": "python",
   "nbconvert_exporter": "python",
   "pygments_lexer": "ipython3",
   "version": "3.10.14"
  }
 },
 "nbformat": 4,
 "nbformat_minor": 2
}
